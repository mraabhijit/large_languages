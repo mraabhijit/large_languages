{
 "cells": [
  {
   "cell_type": "markdown",
   "id": "c9a21b9d-7267-4f12-ab28-fec111d0c9e1",
   "metadata": {},
   "source": [
    "# Langchain"
   ]
  },
  {
   "cell_type": "code",
   "execution_count": 3,
   "id": "10463b29-3c89-402c-8d38-b057f2e5f697",
   "metadata": {},
   "outputs": [],
   "source": [
    "import langchain"
   ]
  },
  {
   "cell_type": "code",
   "execution_count": 4,
   "id": "081f271e-216b-4b41-b656-dfa04e95c9e8",
   "metadata": {},
   "outputs": [],
   "source": [
    "from langchain.llms import OpenAI"
   ]
  },
  {
   "cell_type": "code",
   "execution_count": 5,
   "id": "8ad3190b-547f-4d26-8c04-713f95635c48",
   "metadata": {},
   "outputs": [],
   "source": [
    "from langchain.prompts import PromptTemplate"
   ]
  },
  {
   "cell_type": "code",
   "execution_count": 6,
   "id": "8766bac0-9fcf-48cd-9b2b-e9a18c036d11",
   "metadata": {},
   "outputs": [],
   "source": [
    "prompt_template_name = PromptTemplate(\n",
    "    input_variables=[\"country\"],\n",
    "    template=\"Can you tell me the capital of {country}?\",\n",
    ")"
   ]
  },
  {
   "cell_type": "code",
   "execution_count": 7,
   "id": "c29267eb-3c06-4f99-9730-c2d50ae98f61",
   "metadata": {},
   "outputs": [
    {
     "data": {
      "text/plain": [
       "'Can you tell me the capital of India?'"
      ]
     },
     "execution_count": 7,
     "metadata": {},
     "output_type": "execute_result"
    }
   ],
   "source": [
    "prompt_template_name.format(country=\"India\")"
   ]
  },
  {
   "cell_type": "code",
   "execution_count": 8,
   "id": "d05738c3-cb12-4a80-ace2-a1a2418ba6c7",
   "metadata": {},
   "outputs": [],
   "source": [
    "import config"
   ]
  },
  {
   "cell_type": "code",
   "execution_count": 11,
   "id": "558c29a4-ec01-4deb-86f7-de6038092e15",
   "metadata": {},
   "outputs": [],
   "source": [
    "from langchain.agents import AgentType\n",
    "from langchain.agents import load_tools\n",
    "from langchain.agents import initialize_agent\n",
    "from langchain.llms import OpenAI"
   ]
  },
  {
   "cell_type": "code",
   "execution_count": 12,
   "id": "44f9415c-a3a8-4c5d-9d3c-d4bbbd5dd55c",
   "metadata": {},
   "outputs": [],
   "source": [
    "serp_key = config.serp_key"
   ]
  },
  {
   "cell_type": "code",
   "execution_count": null,
   "id": "138b9108-43fd-431f-a335-50767aa28e27",
   "metadata": {},
   "outputs": [],
   "source": [
    "tool = load_t"
   ]
  }
 ],
 "metadata": {
  "kernelspec": {
   "display_name": "Python 3 (ipykernel)",
   "language": "python",
   "name": "python3"
  },
  "language_info": {
   "codemirror_mode": {
    "name": "ipython",
    "version": 3
   },
   "file_extension": ".py",
   "mimetype": "text/x-python",
   "name": "python",
   "nbconvert_exporter": "python",
   "pygments_lexer": "ipython3",
   "version": "3.10.13"
  }
 },
 "nbformat": 4,
 "nbformat_minor": 5
}
